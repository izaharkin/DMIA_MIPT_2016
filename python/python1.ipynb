{
 "cells": [
  {
   "cell_type": "markdown",
   "metadata": {},
   "source": [
    "# DMIA 2016\n",
    "## Python\n",
    "## Zakharkin Ilya (MIPT Student, 2 course)"
   ]
  },
  {
   "cell_type": "markdown",
   "metadata": {},
   "source": [
    "### Python 1"
   ]
  },
  {
   "cell_type": "markdown",
   "metadata": {},
   "source": [
    "### 1. FizzBuzz"
   ]
  },
  {
   "cell_type": "code",
   "execution_count": 1,
   "metadata": {
    "collapsed": false
   },
   "outputs": [
    {
     "name": "stdout",
     "output_type": "stream",
     "text": [
      "FizzBuzz\n",
      "1\n",
      "2\n",
      "Fizz\n",
      "4\n",
      "Buzz\n",
      "Fizz\n",
      "7\n",
      "8\n",
      "Fizz\n",
      "Buzz\n",
      "11\n",
      "Fizz\n",
      "13\n",
      "14\n",
      "FizzBuzz\n",
      "16\n",
      "17\n",
      "Fizz\n",
      "19\n",
      "Buzz\n",
      "Fizz\n",
      "22\n",
      "23\n",
      "Fizz\n",
      "Buzz\n",
      "26\n",
      "Fizz\n",
      "28\n",
      "29\n",
      "FizzBuzz\n",
      "31\n",
      "32\n",
      "Fizz\n",
      "34\n",
      "Buzz\n",
      "Fizz\n",
      "37\n",
      "38\n",
      "Fizz\n",
      "Buzz\n",
      "41\n",
      "Fizz\n",
      "43\n",
      "44\n",
      "FizzBuzz\n",
      "46\n",
      "47\n",
      "Fizz\n",
      "49\n",
      "Buzz\n",
      "Fizz\n",
      "52\n",
      "53\n",
      "Fizz\n",
      "Buzz\n",
      "56\n",
      "Fizz\n",
      "58\n",
      "59\n",
      "FizzBuzz\n",
      "61\n",
      "62\n",
      "Fizz\n",
      "64\n",
      "Buzz\n",
      "Fizz\n",
      "67\n",
      "68\n",
      "Fizz\n",
      "Buzz\n",
      "71\n",
      "Fizz\n",
      "73\n",
      "74\n",
      "FizzBuzz\n",
      "76\n",
      "77\n",
      "Fizz\n",
      "79\n",
      "Buzz\n",
      "Fizz\n",
      "82\n",
      "83\n",
      "Fizz\n",
      "Buzz\n",
      "86\n",
      "Fizz\n",
      "88\n",
      "89\n",
      "FizzBuzz\n",
      "91\n",
      "92\n",
      "Fizz\n",
      "94\n",
      "Buzz\n",
      "Fizz\n",
      "97\n",
      "98\n",
      "Fizz\n",
      "Buzz\n"
     ]
    }
   ],
   "source": [
    "for x in range(0, 101):\n",
    "    f1 = f2 = f3 = True\n",
    "    if x % 3 == 0 and x % 5 == 0:\n",
    "        print('FizzBuzz')\n",
    "        f1 = False\n",
    "    if x % 3 == 0 and f1:\n",
    "        print('Fizz')\n",
    "        f2 = False\n",
    "    if x % 5 == 0 and f1 and f2:\n",
    "        print('Buzz')\n",
    "        f3 = False\n",
    "    if f1 and f2 and f3:\n",
    "        print(x)"
   ]
  },
  {
   "cell_type": "markdown",
   "metadata": {},
   "source": [
    "### 2. 100-ое число Фибоначчи"
   ]
  },
  {
   "cell_type": "code",
   "execution_count": 2,
   "metadata": {
    "collapsed": false
   },
   "outputs": [
    {
     "name": "stdout",
     "output_type": "stream",
     "text": [
      "354224848179261915075\n"
     ]
    }
   ],
   "source": [
    "f0 = 0\n",
    "f1 = 1\n",
    "for i in range(0, 99):\n",
    "    f = f0 + f1\n",
    "    f0 = f1\n",
    "    f1 = f\n",
    "print(f)"
   ]
  },
  {
   "cell_type": "markdown",
   "metadata": {},
   "source": [
    "### 3. Quicksort"
   ]
  },
  {
   "cell_type": "code",
   "execution_count": 33,
   "metadata": {
    "collapsed": false
   },
   "outputs": [
    {
     "name": "stdout",
     "output_type": "stream",
     "text": [
      "Enter number of elements: 5\n",
      "3\n",
      "2\n",
      "4\n",
      "1\n",
      "5\n",
      "[3, 2, 4, 1, 5]\n",
      "[1, 2, 3, 4, 5]\n"
     ]
    }
   ],
   "source": [
    "def partition(array, left, right):\n",
    "    pivot = array[left]\n",
    "    l = left\n",
    "    r = right\n",
    "    while (l <= r):\n",
    "        while (array[l] < pivot):\n",
    "            l += 1\n",
    "        while (array[r] > pivot):\n",
    "            r -= 1\n",
    "        if l <= r:\n",
    "            array[l], array[r] = array[r], array[l]\n",
    "            l += 1\n",
    "            r -= 1\n",
    "    return r\n",
    "\n",
    "def quick_sort(array, left, right):\n",
    "    if (left < right):\n",
    "        pivot = partition(array, left, right)\n",
    "        quick_sort(array, left, pivot)\n",
    "        quick_Sort(array, pivot+1, right)\n",
    "        \n",
    "def qsort(array):\n",
    "    if array == []: \n",
    "        return []\n",
    "    pivot = array[0]\n",
    "    less = qsort([x for x in array[1:] if x < pivot])\n",
    "    moreq = qsort([x for x in array[1:] if x >= pivot])\n",
    "    return less + [pivot] + moreq\n",
    "    \n",
    "num = input(\"Enter number of elements: \")\n",
    "arr = []\n",
    "for i in range(int(num)):\n",
    "    x = int(input())\n",
    "    arr.append(int(x))\n",
    "print(arr)\n",
    "arr = qsort(arr)\n",
    "print(arr)"
   ]
  },
  {
   "cell_type": "markdown",
   "metadata": {
    "collapsed": true
   },
   "source": [
    "### NumPy"
   ]
  },
  {
   "cell_type": "code",
   "execution_count": 4,
   "metadata": {
    "collapsed": true
   },
   "outputs": [],
   "source": [
    "import numpy as np"
   ]
  },
  {
   "cell_type": "markdown",
   "metadata": {},
   "source": [
    "### 1. np.linspace() ~ for loop ~ list comprehension"
   ]
  },
  {
   "cell_type": "code",
   "execution_count": 5,
   "metadata": {
    "collapsed": true
   },
   "outputs": [],
   "source": [
    "# for time\n",
    "import time\n",
    " \n",
    "class Profiler(object):\n",
    "    def __enter__(self):\n",
    "        self._startTime = time.time()\n",
    "         \n",
    "    def __exit__(self, type, value, traceback):\n",
    "        print('Elapsed time: {:.3f} sec'.format(time.time() - self._startTime))"
   ]
  },
  {
   "cell_type": "code",
   "execution_count": 6,
   "metadata": {
    "collapsed": false
   },
   "outputs": [
    {
     "name": "stdout",
     "output_type": "stream",
     "text": [
      "Loop version: \n",
      "Elapsed time: 3.370 sec\n",
      "List comprehension version: \n",
      "Elapsed time: 0.012 sec\n",
      "np.linspace(): \n",
      "Elapsed time: 0.000 sec\n"
     ]
    }
   ],
   "source": [
    "def my_linspace_loop(start=0, end=100, num=1, retstep=False):\n",
    "    step = (end - start) / (num - 1)\n",
    "    x = start\n",
    "    linspace = np.array([])\n",
    "    while x <= end:\n",
    "        linspace = np.append(linspace, x)\n",
    "        x += step\n",
    "    if retstep:\n",
    "        return (linspace, step)\n",
    "    else:\n",
    "        return linspace\n",
    "\n",
    "def my_linspace_compreh(start=0, end=100, num=1, retstep=False):\n",
    "    step = (end - start) / (num - 1)\n",
    "    x = start\n",
    "    linspace = np.array([x for x in np.arange(start, end+step, step)])\n",
    "    if retstep:\n",
    "        return (linspace, step)\n",
    "    else:\n",
    "        return linspace   \n",
    "    \n",
    "print('Loop version: ')\n",
    "with Profiler() as p:\n",
    "    arr1 = my_linspace_loop(1.0, 100000.0, 100000)\n",
    "    #print(arr1)\n",
    "\n",
    "print('List comprehension version: ')\n",
    "with Profiler() as p:\n",
    "    arr2 = my_linspace_compreh(1.0, 100000.0, 100000)\n",
    "    #print(arr2)\n",
    "\n",
    "print('np.linspace(): ')\n",
    "with Profiler() as p:\n",
    "    arr3 = np.linspace(1.0, 100000.0, 100000)\n",
    "    #print(arr3)"
   ]
  },
  {
   "cell_type": "markdown",
   "metadata": {},
   "source": [
    "=> Можно сделать вывод, что np.linspace() работает в разы быстрее"
   ]
  },
  {
   "cell_type": "markdown",
   "metadata": {},
   "source": [
    "### 2. np.ndarray() and list() comparison"
   ]
  },
  {
   "cell_type": "code",
   "execution_count": 34,
   "metadata": {
    "collapsed": false
   },
   "outputs": [
    {
     "name": "stdout",
     "output_type": "stream",
     "text": [
      "Elapsed time: 0.000 sec\n",
      "Elapsed time: 0.000 sec\n",
      "Elapsed time: 0.000 sec\n"
     ]
    }
   ],
   "source": [
    "ndarr = np.array([])\n",
    "listarr = []\n",
    "ndarr = np.append(ndarr, 5)\n",
    "with Profiler() as p:\n",
    "    listarr.append(5)\n",
    "\n",
    "with Profiler() as p:\n",
    "    listarr.insert(2, 10)\n",
    "\n",
    "with Profiler() as p:\n",
    "    listarr.remove(5)"
   ]
  },
  {
   "cell_type": "markdown",
   "metadata": {},
   "source": [
    "... не получается сравнить, но точно могу сказать, что np.ndarray() быстрее :)"
   ]
  },
  {
   "cell_type": "markdown",
   "metadata": {},
   "source": [
    "### Matplotlib"
   ]
  },
  {
   "cell_type": "code",
   "execution_count": 35,
   "metadata": {
    "collapsed": true
   },
   "outputs": [],
   "source": [
    "import matplotlib.pyplot as plt\n",
    "%matplotlib inline"
   ]
  },
  {
   "cell_type": "code",
   "execution_count": 36,
   "metadata": {
    "collapsed": false
   },
   "outputs": [
    {
     "name": "stderr",
     "output_type": "stream",
     "text": [
      "/usr/lib/python3.5/site-packages/matplotlib/axes/_axes.py:531: UserWarning: No labelled objects found. Use label='...' kwarg on individual plots.\n",
      "  warnings.warn(\"No labelled objects found. \"\n"
     ]
    },
    {
     "data": {
      "image/png": "[encoded data removed]",
      "text/plain": [
       "<matplotlib.figure.Figure at 0x7fbc8d12c1d0>"
      ]
     },
     "metadata": {},
     "output_type": "display_data"
    }
   ],
   "source": [
    "def func1(x):\n",
    "    return x ** 2\n",
    "\n",
    "def func2(x):\n",
    "    return np.sin(x)\n",
    "\n",
    "def func3(x):\n",
    "    return np.abs(x)\n",
    "\n",
    "def func4(x):\n",
    "    return np.sqrt(x)\n",
    "\n",
    "def func5(x):\n",
    "    return np.cos(x)\n",
    "\n",
    "fig, subplots = plt.subplots(nrows=1, ncols=2, sharex=False, sharey=False)\n",
    "i = 0\n",
    "for ax in fig.axes:\n",
    "    if (i == 0):\n",
    "        x = np.arange(-3, 3, 0.2)\n",
    "        y1 = func1(x)\n",
    "        y2 = func2(x)\n",
    "        y3 = func3(x)\n",
    "        ax.grid(True)\n",
    "        ax.plot(x, y1, label='$x^2$', color='blue')\n",
    "        ax.plot(x, y2, label='$sin(x)$', color='red')\n",
    "        ax.plot(x, y3, label='$abs(x)$', color='green')\n",
    "        plt.ylim(-2.0, 10.0)\n",
    "        plt.legend(loc='upper right');\n",
    "    else:\n",
    "        x = np.arange(0, 10, 0.2)\n",
    "        y4 = func4(x)\n",
    "        y5 = func5(x)\n",
    "        ax.grid(True)\n",
    "        ax.plot(x, y4, label='$sqrt(x)$', color='orange')\n",
    "        ax.plot(x, y5, label='$cos(x)$', color='magenta')\n",
    "        plt.ylim(-1.0, 4.0)\n",
    "        plt.legend(loc='upper left');\n",
    "    i += 1\n",
    "    \n",
    "plt.tight_layout()\n",
    "plt.savefig('%s' % ('my_figure'), fmt='png')\n",
    "plt.show()"
   ]
  },
  {
   "cell_type": "markdown",
   "metadata": {},
   "source": [
    "### SciPy"
   ]
  },
  {
   "cell_type": "code",
   "execution_count": 37,
   "metadata": {
    "collapsed": true
   },
   "outputs": [],
   "source": [
    "import scipy"
   ]
  },
  {
   "cell_type": "markdown",
   "metadata": {},
   "source": [
    "#### 1. Generate the matrix 5x5:"
   ]
  },
  {
   "cell_type": "code",
   "execution_count": 38,
   "metadata": {
    "collapsed": false
   },
   "outputs": [
    {
     "name": "stdout",
     "output_type": "stream",
     "text": [
      "[[-0.33505014  0.36583205  0.14484602 -0.85880608  0.92033955]\n",
      " [ 1.50040315 -0.27917922 -0.48660856  2.16542323 -0.68339847]\n",
      " [-1.16308313 -0.91905766 -0.63925306 -2.58159807 -1.88836774]\n",
      " [ 1.72148158  0.25193597 -0.15303353 -0.80945107  0.14904005]\n",
      " [ 0.48442797  0.18047961  0.56070946  0.20130213 -0.59201775]]\n"
     ]
    }
   ],
   "source": [
    "n = 5\n",
    "m = 5\n",
    "matrix = np.zeros((n, m))\n",
    "for i in range(0, n):\n",
    "    for j in range(0, m):\n",
    "        matrix[i][j] = np.random.randn()\n",
    "print(matrix)"
   ]
  },
  {
   "cell_type": "markdown",
   "metadata": {
    "collapsed": true
   },
   "source": [
    "#### 2. Find eigenvalues and eigenvectors of this matrix (linear operator):"
   ]
  },
  {
   "cell_type": "code",
   "execution_count": 39,
   "metadata": {
    "collapsed": false
   },
   "outputs": [
    {
     "name": "stdout",
     "output_type": "stream",
     "text": [
      "Eigenvalues of this matrix:  [-1.44631316+1.08118414j -1.44631316-1.08118414j -0.06012478+0.77764917j\n",
      " -0.06012478-0.77764917j  0.35792464+0.j        ]\n",
      "Eigenvectors of this matrix:  [[ 0.01195338-0.32482272j  0.01195338+0.32482272j -0.18398043+0.03218569j\n",
      "  -0.18398043-0.03218569j  0.07851530+0.j        ]\n",
      " [-0.00746993+0.46092899j -0.00746993-0.46092899j  0.70441781+0.j\n",
      "   0.70441781-0.j         -0.80001571+0.j        ]\n",
      " [-0.67844520+0.j         -0.67844520-0.j         -0.43421358-0.41273883j\n",
      "  -0.43421358+0.41273883j  0.55304196+0.j        ]\n",
      " [-0.33500200+0.06136097j -0.33500200-0.06136097j  0.01195391+0.15931014j\n",
      "   0.01195391-0.15931014j -0.10482356+0.j        ]\n",
      " [ 0.16429904+0.28028987j  0.16429904-0.28028987j -0.28266575+0.06777556j\n",
      "  -0.28266575-0.06777556j  0.19226760+0.j        ]]\n"
     ]
    }
   ],
   "source": [
    "eigvals, eigvecs = np.linalg.eig(matrix)\n",
    "print('Eigenvalues of this matrix: ', eigvals)\n",
    "print('Eigenvectors of this matrix: ', eigvecs)"
   ]
  },
  {
   "cell_type": "markdown",
   "metadata": {},
   "source": [
    "#### 3. Check if they are the real eigs :"
   ]
  },
  {
   "cell_type": "code",
   "execution_count": 14,
   "metadata": {
    "collapsed": false
   },
   "outputs": [
    {
     "name": "stdout",
     "output_type": "stream",
     "text": [
      "(-2.01124904093e-13+0j)\n",
      "[-0.59384364-0.23618804j  1.63540431+0.53433421j  1.18950867-0.60766459j\n",
      "  1.30621574+0.65394015j -1.88193930-0.25916743j]\n",
      "(3.8124316839e-15+0j)\n",
      "[-0.02158776+0.j  0.49090587+0.j -0.16000568+0.j  0.57501093+0.j\n",
      "  2.63212782+0.j]\n",
      "(1.9908729587e-14-1.21758836402e-14j)\n",
      "[-0.65891454+0.75420399j  0.06654773-1.50978627j  1.09340369-0.0049593j\n",
      "  0.31565549+0.32308983j  1.19542318+0.46575733j]\n",
      "(1.9908729587e-14+1.21758836402e-14j)\n",
      "[ 0.88421353-1.03373061j -0.49562581+0.67298431j  0.85682054+0.16616463j\n",
      " -1.01717904-0.36800677j  0.03120566-0.5947068j ]\n",
      "(5.49746477917e-15+0j)\n",
      "[ 1.13345295+0.10252712j  0.02519007-0.23194972j -1.12462208-0.14871571j\n",
      " -2.16459706+0.1286279j  -1.82689123+0.11250227j]\n"
     ]
    }
   ],
   "source": [
    "for i in range(len(eigvals)): # may be eval[i] !~ evec[i] - check it!\n",
    "    eig_mat = matrix - eigvals[i] * np.eye(n)\n",
    "    print(np.linalg.det(eig_mat))\n",
    "    print(eig_mat.dot(eigvecs[i]))\n",
    "    #if eig_mat.dot(eigvecs[i]) == np.zeros((5,1)):\n",
    "    #   print(\"It is the true evalue and evector!\")"
   ]
  },
  {
   "cell_type": "markdown",
   "metadata": {},
   "source": [
    ".. честно говоря, я не знаю, почему (A - eigvalue * E).dot(eigvector) != 0, по определению должно быть именно так, возможно, дело в погрешности :("
   ]
  }
 ],
 "metadata": {
  "kernelspec": {
   "display_name": "Python 3",
   "language": "python",
   "name": "python3"
  },
  "language_info": {
   "codemirror_mode": {
    "name": "ipython",
    "version": 3
   },
   "file_extension": ".py",
   "mimetype": "text/x-python",
   "name": "python",
   "nbconvert_exporter": "python",
   "pygments_lexer": "ipython3",
   "version": "3.5.2"
  }
 },
 "nbformat": 4,
 "nbformat_minor": 0
}
